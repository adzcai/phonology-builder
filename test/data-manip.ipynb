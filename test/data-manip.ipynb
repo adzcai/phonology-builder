{
 "metadata": {
  "language_info": {
   "codemirror_mode": {
    "name": "ipython",
    "version": 3
   },
   "file_extension": ".py",
   "mimetype": "text/x-python",
   "name": "python",
   "nbconvert_exporter": "python",
   "pygments_lexer": "ipython3",
   "version": "3.8.5"
  },
  "orig_nbformat": 4,
  "kernelspec": {
   "name": "python3",
   "display_name": "Python 3.8.5 64-bit ('base': conda)"
  },
  "interpreter": {
   "hash": "e134e05457d34029b6460cd73bbf1ed73f339b5b6d98c95be70b69eba114fe95"
  }
 },
 "nbformat": 4,
 "nbformat_minor": 2,
 "cells": [
  {
   "source": [
    "# Data conversions"
   ],
   "cell_type": "markdown",
   "metadata": {}
  },
  {
   "source": [
    "## Load data"
   ],
   "cell_type": "markdown",
   "metadata": {}
  },
  {
   "cell_type": "code",
   "execution_count": null,
   "metadata": {},
   "outputs": [],
   "source": [
    "import numpy as np\n",
    "import pandas as pd\n",
    "import requests\n",
    "import json"
   ]
  },
  {
   "cell_type": "code",
   "execution_count": null,
   "metadata": {},
   "outputs": [],
   "source": [
    "# These are the segments from the GitHub repository, which should line up with the Jason Riggle chart\n",
    "segments = requests.get('https://raw.githubusercontent.com/anna-hope/phonemes/master/phonemes.json').json()\n",
    "\n",
    "segments = pd.json_normalize([\n",
    "    {\n",
    "        'symbol': key,\n",
    "        'name': value['name'],\n",
    "        **value['features']\n",
    "    }\n",
    "    for key, value in segments.items()\n",
    "])\n",
    "segments.set_index('symbol', inplace=True)\n",
    "segments.head()"
   ]
  },
  {
   "cell_type": "code",
   "execution_count": null,
   "metadata": {},
   "outputs": [],
   "source": [
    "# This is the raw data from Pheatures\n",
    "pheatures = pd.read_csv('../src/assets/base-features.tsv', delimiter='\\t')\n",
    "\n",
    "del pheatures['Sound']\n",
    "pheatures.rename(columns={'Unicode': 'symbol'}, inplace=True)\n",
    "pheatures.set_index('symbol', inplace=True)\n",
    "pheatures.head()"
   ]
  },
  {
   "cell_type": "code",
   "execution_count": null,
   "metadata": {},
   "outputs": [],
   "source": [
    "pheatures.reset_index().replace('-', False).replace('+', True).replace('0', 0).to_json('../src/assets/base-features.json', orient='records', indent=2)"
   ]
  },
  {
   "cell_type": "code",
   "execution_count": null,
   "metadata": {},
   "outputs": [],
   "source": [
    "pheatures.insert(0, 'name', [\n",
    "    segments.loc[symbol]['name']\n",
    "    if symbol in segments.name\n",
    "    else ''\n",
    "    for symbol in pheatures.index\n",
    "])"
   ]
  },
  {
   "cell_type": "code",
   "execution_count": null,
   "metadata": {},
   "outputs": [],
   "source": [
    "pheatures"
   ]
  },
  {
   "cell_type": "code",
   "execution_count": null,
   "metadata": {},
   "outputs": [],
   "source": [
    "print('in pheatures but not chart: ', ', '.join(pheatures[~pheatures.index.isin(segments.index)].index))\n",
    "print()\n",
    "print('in chart but not pheatures: ', ', '.join(segments[~segments.index.isin(pheatures.index)].index))"
   ]
  },
  {
   "cell_type": "code",
   "execution_count": null,
   "metadata": {},
   "outputs": [],
   "source": [
    "segments_cols = set([\n",
    "    col            \n",
    "        .replace('ant', 'anterior')\n",
    "        .replace('son', 'sonorant')\n",
    "        .replace('cons', 'consonantal')\n",
    "        .replace('CG', 'constr gl')\n",
    "        .replace('SG', 'spread gl')\n",
    "        .replace('syl', 'syllabic')\n",
    "        .replace('dist', 'distributed')\n",
    "        .replace('cont', 'continuant')\n",
    "        .replace('del_rel', 'delayed release')\n",
    "    for col in segments.columns\n",
    "])\n",
    "pheatures_cols = set(pheatures.columns)\n",
    "print('in pheatures but not chart: ', ', '.join(segments_cols.difference(pheatures_cols)))\n",
    "print()\n",
    "print('in chart but not pheatures: ', ', '.join(pheatures_cols.difference(segments_cols)))"
   ]
  },
  {
   "cell_type": "code",
   "execution_count": null,
   "metadata": {
    "tags": []
   },
   "outputs": [],
   "source": [
    "row = segments.iloc[0].sort_index()\n",
    "row.drop(['ATR', 'name', 'pharyngeal'], inplace=True)\n",
    "\n",
    "my_row = my_segments.loc[row.name].sort_index()\n",
    "my_row.drop(['approximant', 'front', 'labiodental', 'long', 'stress', 'tap', 'trill'], inplace=True)"
   ]
  },
  {
   "cell_type": "code",
   "execution_count": null,
   "metadata": {},
   "outputs": [],
   "source": []
  }
 ]
}